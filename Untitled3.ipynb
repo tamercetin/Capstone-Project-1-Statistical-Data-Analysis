{
 "cells": [
  {
   "cell_type": "markdown",
   "metadata": {},
   "source": [
    "# Capstone Project 1: Statistical Data Analysis"
   ]
  },
  {
   "cell_type": "markdown",
   "metadata": {},
   "source": [
    "In this notebook I load '../datacig.xlsx', which is country level aggregate data, as the output of explanatory data analysis.\n",
    "\n",
    "Using this dataset, I employ inferential statistics to the following questions. \n",
    "\n",
    "#Are there variables that are particularly significant in terms of explaining the answer to your project question?\n",
    "\n",
    "#Are there strong correlations between pairs of independent variables or between an independent and a dependent variable?\n",
    "\n",
    "#What are the most appropriate tests to use to analyze these relationships?\n",
    "\n",
    "#Are there significant differences between subgroups in your data that may be relevant to your project aim?"
   ]
  },
  {
   "cell_type": "markdown",
   "metadata": {},
   "source": [
    "# Step 1: Importing Moduls and Data"
   ]
  },
  {
   "cell_type": "code",
   "execution_count": 1,
   "metadata": {},
   "outputs": [],
   "source": [
    "import pandas as pd #for building dataframes from CSV files\n",
    "import seaborn as sns #for fancy charts\n",
    "import numpy as np #for np.nan\n",
    "from scipy import stats #for statistical analysis\n",
    "from scipy.stats import norm #for statistical analysis\n",
    "from datetime import datetime #for time-series plots\n",
    "import statsmodels #for integration with pandas and analysis\n",
    "import statsmodels.api as sm # for regression modules\n",
    "from statsmodels.formula.api import ols # for regression modules\n",
    "import matplotlib.pyplot as plt \n",
    "%matplotlib inline"
   ]
  },
  {
   "cell_type": "code",
   "execution_count": 2,
   "metadata": {},
   "outputs": [],
   "source": [
    "data = pd.read_excel('datacig.xlsx')"
   ]
  },
  {
   "cell_type": "code",
   "execution_count": 3,
   "metadata": {
    "scrolled": true
   },
   "outputs": [
    {
     "data": {
      "text/html": [
       "<div>\n",
       "<style scoped>\n",
       "    .dataframe tbody tr th:only-of-type {\n",
       "        vertical-align: middle;\n",
       "    }\n",
       "\n",
       "    .dataframe tbody tr th {\n",
       "        vertical-align: top;\n",
       "    }\n",
       "\n",
       "    .dataframe thead th {\n",
       "        text-align: right;\n",
       "    }\n",
       "</style>\n",
       "<table border=\"1\" class=\"dataframe\">\n",
       "  <thead>\n",
       "    <tr style=\"text-align: right;\">\n",
       "      <th></th>\n",
       "      <th>Date</th>\n",
       "      <th>lncons</th>\n",
       "      <th>lnprice</th>\n",
       "      <th>lntax</th>\n",
       "      <th>lntipi</th>\n",
       "      <th>D1july09reg</th>\n",
       "      <th>D2jan10tax</th>\n",
       "      <th>D3oct11tax</th>\n",
       "      <th>D4jul12reg_advertisement_ban</th>\n",
       "      <th>D5jan13mixstrtgy</th>\n",
       "    </tr>\n",
       "  </thead>\n",
       "  <tbody>\n",
       "    <tr>\n",
       "      <td>0</td>\n",
       "      <td>2005-01-01</td>\n",
       "      <td>22.770554</td>\n",
       "      <td>0.620785</td>\n",
       "      <td>-4.605170</td>\n",
       "      <td>4.441474</td>\n",
       "      <td>0</td>\n",
       "      <td>0</td>\n",
       "      <td>0</td>\n",
       "      <td>0</td>\n",
       "      <td>0</td>\n",
       "    </tr>\n",
       "    <tr>\n",
       "      <td>1</td>\n",
       "      <td>2005-02-01</td>\n",
       "      <td>22.904891</td>\n",
       "      <td>0.589702</td>\n",
       "      <td>-4.605170</td>\n",
       "      <td>4.298645</td>\n",
       "      <td>0</td>\n",
       "      <td>0</td>\n",
       "      <td>0</td>\n",
       "      <td>0</td>\n",
       "      <td>0</td>\n",
       "    </tr>\n",
       "    <tr>\n",
       "      <td>2</td>\n",
       "      <td>2005-03-01</td>\n",
       "      <td>22.876975</td>\n",
       "      <td>0.621620</td>\n",
       "      <td>-4.605170</td>\n",
       "      <td>4.417635</td>\n",
       "      <td>0</td>\n",
       "      <td>0</td>\n",
       "      <td>0</td>\n",
       "      <td>0</td>\n",
       "      <td>0</td>\n",
       "    </tr>\n",
       "    <tr>\n",
       "      <td>3</td>\n",
       "      <td>2005-04-01</td>\n",
       "      <td>22.912580</td>\n",
       "      <td>0.620064</td>\n",
       "      <td>-4.605170</td>\n",
       "      <td>4.351567</td>\n",
       "      <td>0</td>\n",
       "      <td>0</td>\n",
       "      <td>0</td>\n",
       "      <td>0</td>\n",
       "      <td>0</td>\n",
       "    </tr>\n",
       "    <tr>\n",
       "      <td>4</td>\n",
       "      <td>2005-05-01</td>\n",
       "      <td>22.963752</td>\n",
       "      <td>0.605539</td>\n",
       "      <td>-4.605170</td>\n",
       "      <td>4.418841</td>\n",
       "      <td>0</td>\n",
       "      <td>0</td>\n",
       "      <td>0</td>\n",
       "      <td>0</td>\n",
       "      <td>0</td>\n",
       "    </tr>\n",
       "    <tr>\n",
       "      <td>...</td>\n",
       "      <td>...</td>\n",
       "      <td>...</td>\n",
       "      <td>...</td>\n",
       "      <td>...</td>\n",
       "      <td>...</td>\n",
       "      <td>...</td>\n",
       "      <td>...</td>\n",
       "      <td>...</td>\n",
       "      <td>...</td>\n",
       "      <td>...</td>\n",
       "    </tr>\n",
       "    <tr>\n",
       "      <td>117</td>\n",
       "      <td>2014-10-01</td>\n",
       "      <td>22.861446</td>\n",
       "      <td>1.086282</td>\n",
       "      <td>-1.673976</td>\n",
       "      <td>4.889597</td>\n",
       "      <td>1</td>\n",
       "      <td>1</td>\n",
       "      <td>1</td>\n",
       "      <td>1</td>\n",
       "      <td>1</td>\n",
       "    </tr>\n",
       "    <tr>\n",
       "      <td>118</td>\n",
       "      <td>2014-11-01</td>\n",
       "      <td>22.790900</td>\n",
       "      <td>1.081386</td>\n",
       "      <td>-1.673976</td>\n",
       "      <td>4.886583</td>\n",
       "      <td>1</td>\n",
       "      <td>1</td>\n",
       "      <td>1</td>\n",
       "      <td>1</td>\n",
       "      <td>1</td>\n",
       "    </tr>\n",
       "    <tr>\n",
       "      <td>119</td>\n",
       "      <td>2014-12-01</td>\n",
       "      <td>23.006065</td>\n",
       "      <td>1.084191</td>\n",
       "      <td>-1.673976</td>\n",
       "      <td>4.852811</td>\n",
       "      <td>1</td>\n",
       "      <td>1</td>\n",
       "      <td>1</td>\n",
       "      <td>1</td>\n",
       "      <td>1</td>\n",
       "    </tr>\n",
       "    <tr>\n",
       "      <td>120</td>\n",
       "      <td>2015-01-01</td>\n",
       "      <td>22.540911</td>\n",
       "      <td>1.070181</td>\n",
       "      <td>-1.673976</td>\n",
       "      <td>4.695925</td>\n",
       "      <td>1</td>\n",
       "      <td>1</td>\n",
       "      <td>1</td>\n",
       "      <td>1</td>\n",
       "      <td>1</td>\n",
       "    </tr>\n",
       "    <tr>\n",
       "      <td>121</td>\n",
       "      <td>2015-02-01</td>\n",
       "      <td>22.491954</td>\n",
       "      <td>1.087177</td>\n",
       "      <td>-1.673976</td>\n",
       "      <td>4.670958</td>\n",
       "      <td>1</td>\n",
       "      <td>1</td>\n",
       "      <td>1</td>\n",
       "      <td>1</td>\n",
       "      <td>1</td>\n",
       "    </tr>\n",
       "  </tbody>\n",
       "</table>\n",
       "<p>122 rows × 10 columns</p>\n",
       "</div>"
      ],
      "text/plain": [
       "          Date     lncons   lnprice     lntax    lntipi  D1july09reg  \\\n",
       "0   2005-01-01  22.770554  0.620785 -4.605170  4.441474            0   \n",
       "1   2005-02-01  22.904891  0.589702 -4.605170  4.298645            0   \n",
       "2   2005-03-01  22.876975  0.621620 -4.605170  4.417635            0   \n",
       "3   2005-04-01  22.912580  0.620064 -4.605170  4.351567            0   \n",
       "4   2005-05-01  22.963752  0.605539 -4.605170  4.418841            0   \n",
       "..         ...        ...       ...       ...       ...          ...   \n",
       "117 2014-10-01  22.861446  1.086282 -1.673976  4.889597            1   \n",
       "118 2014-11-01  22.790900  1.081386 -1.673976  4.886583            1   \n",
       "119 2014-12-01  23.006065  1.084191 -1.673976  4.852811            1   \n",
       "120 2015-01-01  22.540911  1.070181 -1.673976  4.695925            1   \n",
       "121 2015-02-01  22.491954  1.087177 -1.673976  4.670958            1   \n",
       "\n",
       "     D2jan10tax  D3oct11tax  D4jul12reg_advertisement_ban  D5jan13mixstrtgy  \n",
       "0             0           0                             0                 0  \n",
       "1             0           0                             0                 0  \n",
       "2             0           0                             0                 0  \n",
       "3             0           0                             0                 0  \n",
       "4             0           0                             0                 0  \n",
       "..          ...         ...                           ...               ...  \n",
       "117           1           1                             1                 1  \n",
       "118           1           1                             1                 1  \n",
       "119           1           1                             1                 1  \n",
       "120           1           1                             1                 1  \n",
       "121           1           1                             1                 1  \n",
       "\n",
       "[122 rows x 10 columns]"
      ]
     },
     "execution_count": 3,
     "metadata": {},
     "output_type": "execute_result"
    }
   ],
   "source": [
    "data"
   ]
  },
  {
   "cell_type": "code",
   "execution_count": 4,
   "metadata": {
    "scrolled": true
   },
   "outputs": [
    {
     "name": "stdout",
     "output_type": "stream",
     "text": [
      "<class 'pandas.core.frame.DataFrame'>\n",
      "RangeIndex: 122 entries, 0 to 121\n",
      "Data columns (total 10 columns):\n",
      "Date                            122 non-null datetime64[ns]\n",
      "lncons                          122 non-null float64\n",
      "lnprice                         122 non-null float64\n",
      "lntax                           122 non-null float64\n",
      "lntipi                          122 non-null float64\n",
      "D1july09reg                     122 non-null int64\n",
      "D2jan10tax                      122 non-null int64\n",
      "D3oct11tax                      122 non-null int64\n",
      "D4jul12reg_advertisement_ban    122 non-null int64\n",
      "D5jan13mixstrtgy                122 non-null int64\n",
      "dtypes: datetime64[ns](1), float64(4), int64(5)\n",
      "memory usage: 9.7 KB\n"
     ]
    }
   ],
   "source": [
    "data.info()"
   ]
  },
  {
   "cell_type": "markdown",
   "metadata": {},
   "source": [
    "# Step 2: Inferential Analysis"
   ]
  },
  {
   "cell_type": "code",
   "execution_count": 5,
   "metadata": {},
   "outputs": [],
   "source": [
    "# Q1: Are there variables that are particularly significant in terms of explaining the answer to your project question?"
   ]
  },
  {
   "cell_type": "markdown",
   "metadata": {},
   "source": [
    "Yes. Lncons, lnprice, lntax, and dummy variables are particularly significant in terms of expalining the answer to my project question because the relationship among those variables will reveal the effect of tax and regulation policies on cigarette consumption. \n"
   ]
  },
  {
   "cell_type": "code",
   "execution_count": 6,
   "metadata": {},
   "outputs": [
    {
     "data": {
      "text/plain": [
       "Index(['Date', 'lncons', 'lnprice', 'lntax', 'lntipi', 'D1july09reg',\n",
       "       'D2jan10tax', 'D3oct11tax', 'D4jul12reg_advertisement_ban',\n",
       "       'D5jan13mixstrtgy'],\n",
       "      dtype='object')"
      ]
     },
     "execution_count": 6,
     "metadata": {},
     "output_type": "execute_result"
    }
   ],
   "source": [
    "data.columns"
   ]
  },
  {
   "cell_type": "code",
   "execution_count": 7,
   "metadata": {},
   "outputs": [
    {
     "data": {
      "image/png": "[encoded data removed]",
      "text/plain": [
       "<Figure size 504x504 with 3 Axes>"
      ]
     },
     "metadata": {
      "needs_background": "light"
     },
     "output_type": "display_data"
    }
   ],
   "source": [
    "# We can visualize the relationship between price and demand for cigarettes\n",
    "sns.jointplot(x=\"lncons\", y=\"lnprice\", data=data, kind='reg', color='teal', height=7);"
   ]
  },
  {
   "cell_type": "markdown",
   "metadata": {},
   "source": [
    "In this project, prices and cigarette consumption are the most important variables since it is expected that tax increase as an antitobacco measure will increase prices for cigarettes and the increase in cigarette prices will lead to a decline in consumption or demand for cigarettes. Accordingly, the plot depicted above suggests that there is a negative relationhsip between price and consumption or demand cigarettes as expected. "
   ]
  },
  {
   "cell_type": "code",
   "execution_count": 8,
   "metadata": {},
   "outputs": [
    {
     "data": {
      "text/plain": [
       "<seaborn.axisgrid.JointGrid at 0x1c243a9110>"
      ]
     },
     "execution_count": 8,
     "metadata": {},
     "output_type": "execute_result"
    },
    {
     "data": {
      "image/png": "[encoded data removed]",
      "text/plain": [
       "<Figure size 504x504 with 3 Axes>"
      ]
     },
     "metadata": {
      "needs_background": "light"
     },
     "output_type": "display_data"
    }
   ],
   "source": [
    "# We can visualize the relationship between tax rates and demand for cigarettes\n",
    "sns.jointplot(x=\"lncons\", y=\"lntax\", data=data, kind='reg', color='teal', height=7)"
   ]
  },
  {
   "cell_type": "markdown",
   "metadata": {},
   "source": [
    "The plot above depicts the relationship between tax rates and demand for cigarettes. It suggests that there is a negative relationship between tax rates and consumption. "
   ]
  },
  {
   "cell_type": "code",
   "execution_count": 9,
   "metadata": {
    "scrolled": true
   },
   "outputs": [
    {
     "data": {
      "text/plain": [
       "<seaborn.axisgrid.JointGrid at 0x1c2433a4d0>"
      ]
     },
     "execution_count": 9,
     "metadata": {},
     "output_type": "execute_result"
    },
    {
     "data": {
      "image/png": "[encoded data removed]",
      "text/plain": [
       "<Figure size 504x504 with 3 Axes>"
      ]
     },
     "metadata": {
      "needs_background": "light"
     },
     "output_type": "display_data"
    }
   ],
   "source": [
    "# Similarly, we can visualize the relationship between tax rates and cigarette pricess\n",
    "sns.jointplot(x=\"lnprice\", y=\"lntax\", data=data, kind='reg', color='teal', height=7)"
   ]
  },
  {
   "cell_type": "markdown",
   "metadata": {},
   "source": [
    "As shown in the plot above, there is a strong positive relationship between tax rates and prices as expected. "
   ]
  },
  {
   "cell_type": "code",
   "execution_count": 10,
   "metadata": {
    "scrolled": true
   },
   "outputs": [
    {
     "data": {
      "text/plain": [
       "<seaborn.axisgrid.JointGrid at 0x1c246ebc50>"
      ]
     },
     "execution_count": 10,
     "metadata": {},
     "output_type": "execute_result"
    },
    {
     "data": {
      "image/png": "[encoded data removed]",
      "text/plain": [
       "<Figure size 504x504 with 3 Axes>"
      ]
     },
     "metadata": {
      "needs_background": "light"
     },
     "output_type": "display_data"
    }
   ],
   "source": [
    "# Similarly, we can visualize the relationship between lncons and lntipi\n",
    "sns.jointplot(x=\"lncons\", y=\"lntipi\", data=data, kind='reg', color='teal', height=7)"
   ]
  },
  {
   "cell_type": "code",
   "execution_count": 11,
   "metadata": {},
   "outputs": [],
   "source": [
    "# Q2: Are there strong correlations between pairs of independent variables?"
   ]
  },
  {
   "cell_type": "markdown",
   "metadata": {},
   "source": [
    "We have lncons as dependent variable and lnprice, lntipi, lntax, and dummy variables as independent variables. \n",
    "\n",
    "So, we can analyze the correlation relationship between them:\n",
    "\n",
    "    #Correlations between dependent and independent variables: \n",
    "\n",
    "lncons & lnprice \n",
    "\n",
    "lncons & lntax\n",
    "\n",
    "lncons & lntipi\n",
    "\n",
    "lncons & D1july09reg\n",
    "\n",
    "lncons & D2jan10tax\n",
    "\n",
    "lncons & D3oct11tax\n",
    "\n",
    "lncons & D4jul12reg_advertisement_ban\n",
    "\n",
    "lncons & D5jan13mixstrtgy\n",
    "\n",
    "    #Correlations between independent variables: \n",
    "\n",
    "lnprice & lntax\n",
    "\n",
    "lnprice & lntipi\n",
    "\n",
    "lnprice & D2jan10tax\n",
    "\n",
    "lnprice & D3oct11tax\n",
    "\n",
    "lnprice & D4jul12reg_advertisement_ban\n",
    "\n",
    "lnprice & D5jan13mixstrtgy\n",
    "\n",
    "lntax & lntipi\n",
    "\n",
    "lntax & D2jan10tax\n",
    "\n",
    "lntax & D3oct11tax\n",
    "\n",
    "lntax & D4jul12reg_advertisement_ban\n",
    "\n",
    "lntax & D5jan13mixstrtgy\n",
    "\n",
    "lntipi & D2jan10tax\n",
    "\n",
    "lntipi & D3oct11tax\n",
    "\n",
    "lntipi & D4jul12reg_advertisement_ban\n",
    "\n",
    "lntipi & D5jan13mixstrtgy\n",
    "\n",
    "D2jan10tax & D3oct11tax\n",
    "\n",
    "D2jan10tax & D4jul12reg_advertisement_ban\n",
    "\n",
    "D2jan10tax & D5jan13mixstrtgy\n",
    "\n",
    "D3oct11tax & D4jul12reg_advertisement_ban\n",
    "\n",
    "D3oct11tax & D5jan13mixstrtgy\n",
    "\n",
    "D4jul12reg_advertisement_ban & D5jan13mixstrtgy"
   ]
  },
  {
   "cell_type": "code",
   "execution_count": 12,
   "metadata": {},
   "outputs": [],
   "source": [
    "# Correlation Tests"
   ]
  },
  {
   "cell_type": "code",
   "execution_count": 13,
   "metadata": {
    "scrolled": true
   },
   "outputs": [
    {
     "name": "stdout",
     "output_type": "stream",
     "text": [
      "-0.5058108830435305\n"
     ]
    }
   ],
   "source": [
    "from scipy.stats import pearsonr\n",
    "corr, _ = pearsonr(data.lncons, data.lnprice)\n",
    "print(corr)"
   ]
  },
  {
   "cell_type": "code",
   "execution_count": 14,
   "metadata": {},
   "outputs": [
    {
     "name": "stdout",
     "output_type": "stream",
     "text": [
      "-0.3622712404072257\n"
     ]
    }
   ],
   "source": [
    "from scipy.stats import pearsonr\n",
    "corr, _ = pearsonr(data.lncons, data.lntax)\n",
    "print(corr)"
   ]
  },
  {
   "cell_type": "code",
   "execution_count": 15,
   "metadata": {},
   "outputs": [
    {
     "name": "stdout",
     "output_type": "stream",
     "text": [
      "-0.11143397415155358\n"
     ]
    }
   ],
   "source": [
    "from scipy.stats import pearsonr\n",
    "corr, _ = pearsonr(data.lncons, data.lntipi)\n",
    "print(corr)"
   ]
  },
  {
   "cell_type": "code",
   "execution_count": 16,
   "metadata": {},
   "outputs": [
    {
     "name": "stdout",
     "output_type": "stream",
     "text": [
      "-0.45677087143046174\n"
     ]
    }
   ],
   "source": [
    "from scipy.stats import pearsonr\n",
    "corr, _ = pearsonr(data.lncons, data.D1july09reg)\n",
    "print(corr)"
   ]
  },
  {
   "cell_type": "code",
   "execution_count": 17,
   "metadata": {},
   "outputs": [
    {
     "name": "stdout",
     "output_type": "stream",
     "text": [
      "-0.4890083434556939\n"
     ]
    }
   ],
   "source": [
    "from scipy.stats import pearsonr\n",
    "corr, _ = pearsonr(data.lncons, data.D2jan10tax)\n",
    "print(corr)"
   ]
  },
  {
   "cell_type": "code",
   "execution_count": 18,
   "metadata": {},
   "outputs": [
    {
     "name": "stdout",
     "output_type": "stream",
     "text": [
      "-0.3472169089966389\n"
     ]
    }
   ],
   "source": [
    "from scipy.stats import pearsonr\n",
    "corr, _ = pearsonr(data.lncons, data.D3oct11tax)\n",
    "print(corr) "
   ]
  },
  {
   "cell_type": "code",
   "execution_count": 19,
   "metadata": {},
   "outputs": [
    {
     "name": "stdout",
     "output_type": "stream",
     "text": [
      "-0.25895677058669986\n"
     ]
    }
   ],
   "source": [
    "from scipy.stats import pearsonr\n",
    "corr, _ = pearsonr(data.lncons, data.D4jul12reg_advertisement_ban)\n",
    "print(corr) "
   ]
  },
  {
   "cell_type": "code",
   "execution_count": 20,
   "metadata": {},
   "outputs": [
    {
     "name": "stdout",
     "output_type": "stream",
     "text": [
      "-0.32972319002896855\n"
     ]
    }
   ],
   "source": [
    "from scipy.stats import pearsonr\n",
    "corr, _ = pearsonr(data.lncons, data.D5jan13mixstrtgy)\n",
    "print(corr) "
   ]
  },
  {
   "cell_type": "code",
   "execution_count": 21,
   "metadata": {},
   "outputs": [
    {
     "name": "stdout",
     "output_type": "stream",
     "text": [
      "0.8526116174578238\n"
     ]
    }
   ],
   "source": [
    "from scipy.stats import pearsonr\n",
    "corr, _ = pearsonr(data.lnprice, data.lntax)\n",
    "print(corr)"
   ]
  },
  {
   "cell_type": "code",
   "execution_count": 22,
   "metadata": {},
   "outputs": [
    {
     "name": "stdout",
     "output_type": "stream",
     "text": [
      "0.8526116174578238\n"
     ]
    }
   ],
   "source": [
    "from scipy.stats import pearsonr\n",
    "corr, _ = pearsonr(data.lnprice, data.lntax)\n",
    "print(corr)"
   ]
  },
  {
   "cell_type": "code",
   "execution_count": 23,
   "metadata": {},
   "outputs": [
    {
     "name": "stdout",
     "output_type": "stream",
     "text": [
      "0.6356145783590716\n"
     ]
    }
   ],
   "source": [
    "from scipy.stats import pearsonr\n",
    "corr, _ = pearsonr(data.lnprice, data.lntipi)\n",
    "print(corr)"
   ]
  },
  {
   "cell_type": "code",
   "execution_count": 24,
   "metadata": {},
   "outputs": [
    {
     "name": "stdout",
     "output_type": "stream",
     "text": [
      "0.9118290693610923\n"
     ]
    }
   ],
   "source": [
    "from scipy.stats import pearsonr\n",
    "corr, _ = pearsonr(data.lnprice, data.D1july09reg)\n",
    "print(corr)"
   ]
  },
  {
   "cell_type": "code",
   "execution_count": 25,
   "metadata": {},
   "outputs": [
    {
     "name": "stdout",
     "output_type": "stream",
     "text": [
      "0.931423255558748\n"
     ]
    }
   ],
   "source": [
    "from scipy.stats import pearsonr\n",
    "corr, _ = pearsonr(data.lnprice, data.D2jan10tax)\n",
    "print(corr)"
   ]
  },
  {
   "cell_type": "code",
   "execution_count": 26,
   "metadata": {},
   "outputs": [
    {
     "name": "stdout",
     "output_type": "stream",
     "text": [
      "0.7542018501194181\n"
     ]
    }
   ],
   "source": [
    "from scipy.stats import pearsonr\n",
    "corr, _ = pearsonr(data.lnprice, data.D3oct11tax)\n",
    "print(corr) "
   ]
  },
  {
   "cell_type": "code",
   "execution_count": 27,
   "metadata": {},
   "outputs": [
    {
     "name": "stdout",
     "output_type": "stream",
     "text": [
      "0.6481347835924567\n"
     ]
    }
   ],
   "source": [
    "from scipy.stats import pearsonr\n",
    "corr, _ = pearsonr(data.lnprice, data.D4jul12reg_advertisement_ban)\n",
    "print(corr) "
   ]
  },
  {
   "cell_type": "code",
   "execution_count": 28,
   "metadata": {},
   "outputs": [
    {
     "name": "stdout",
     "output_type": "stream",
     "text": [
      "0.592524691357224\n"
     ]
    }
   ],
   "source": [
    "from scipy.stats import pearsonr\n",
    "corr, _ = pearsonr(data.lnprice, data.D5jan13mixstrtgy)\n",
    "print(corr) "
   ]
  },
  {
   "cell_type": "code",
   "execution_count": 29,
   "metadata": {},
   "outputs": [
    {
     "name": "stdout",
     "output_type": "stream",
     "text": [
      "0.6737044027215473\n"
     ]
    }
   ],
   "source": [
    "from scipy.stats import pearsonr\n",
    "corr, _ = pearsonr(data.lntax, data.lntipi)\n",
    "print(corr)"
   ]
  },
  {
   "cell_type": "code",
   "execution_count": 30,
   "metadata": {},
   "outputs": [
    {
     "name": "stdout",
     "output_type": "stream",
     "text": [
      "0.7011743139990538\n"
     ]
    }
   ],
   "source": [
    "from scipy.stats import pearsonr\n",
    "corr, _ = pearsonr(data.lntax, data.D1july09reg)\n",
    "print(corr)"
   ]
  },
  {
   "cell_type": "code",
   "execution_count": 31,
   "metadata": {},
   "outputs": [
    {
     "name": "stdout",
     "output_type": "stream",
     "text": [
      "0.6769048300672047\n"
     ]
    }
   ],
   "source": [
    "from scipy.stats import pearsonr\n",
    "corr, _ = pearsonr(data.lntax, data.D2jan10tax)\n",
    "print(corr)"
   ]
  },
  {
   "cell_type": "code",
   "execution_count": 32,
   "metadata": {},
   "outputs": [
    {
     "name": "stdout",
     "output_type": "stream",
     "text": [
      "0.6433252583737736\n"
     ]
    }
   ],
   "source": [
    "from scipy.stats import pearsonr\n",
    "corr, _ = pearsonr(data.lntax, data.D3oct11tax)\n",
    "print(corr) "
   ]
  },
  {
   "cell_type": "code",
   "execution_count": 33,
   "metadata": {},
   "outputs": [
    {
     "name": "stdout",
     "output_type": "stream",
     "text": [
      "0.5693156779532379\n"
     ]
    }
   ],
   "source": [
    "from scipy.stats import pearsonr\n",
    "corr, _ = pearsonr(data.lntax, data.D4jul12reg_advertisement_ban)\n",
    "print(corr) "
   ]
  },
  {
   "cell_type": "code",
   "execution_count": 34,
   "metadata": {},
   "outputs": [
    {
     "name": "stdout",
     "output_type": "stream",
     "text": [
      "0.5245276488166661\n"
     ]
    }
   ],
   "source": [
    "from scipy.stats import pearsonr\n",
    "corr, _ = pearsonr(data.lntax, data.D5jan13mixstrtgy)\n",
    "print(corr) "
   ]
  },
  {
   "cell_type": "code",
   "execution_count": 35,
   "metadata": {},
   "outputs": [
    {
     "name": "stdout",
     "output_type": "stream",
     "text": [
      "0.573071650467248\n"
     ]
    }
   ],
   "source": [
    "from scipy.stats import pearsonr\n",
    "corr, _ = pearsonr(data.lntipi, data.D1july09reg)\n",
    "print(corr)"
   ]
  },
  {
   "cell_type": "code",
   "execution_count": 36,
   "metadata": {},
   "outputs": [
    {
     "name": "stdout",
     "output_type": "stream",
     "text": [
      "0.5752623059983117\n"
     ]
    }
   ],
   "source": [
    "from scipy.stats import pearsonr\n",
    "corr, _ = pearsonr(data.lntipi, data.D2jan10tax)\n",
    "print(corr)"
   ]
  },
  {
   "cell_type": "code",
   "execution_count": 37,
   "metadata": {},
   "outputs": [
    {
     "name": "stdout",
     "output_type": "stream",
     "text": [
      "0.6390241882706209\n"
     ]
    }
   ],
   "source": [
    "from scipy.stats import pearsonr\n",
    "corr, _ = pearsonr(data.lntipi, data.D3oct11tax)\n",
    "print(corr) "
   ]
  },
  {
   "cell_type": "code",
   "execution_count": 38,
   "metadata": {},
   "outputs": [
    {
     "name": "stdout",
     "output_type": "stream",
     "text": [
      "0.6090255728125775\n"
     ]
    }
   ],
   "source": [
    "from scipy.stats import pearsonr\n",
    "corr, _ = pearsonr(data.lntipi, data.D4jul12reg_advertisement_ban)\n",
    "print(corr)"
   ]
  },
  {
   "cell_type": "code",
   "execution_count": 39,
   "metadata": {},
   "outputs": [
    {
     "name": "stdout",
     "output_type": "stream",
     "text": [
      "0.5220923295353119\n"
     ]
    }
   ],
   "source": [
    "from scipy.stats import pearsonr\n",
    "corr, _ = pearsonr(data.lntipi, data.D5jan13mixstrtgy)\n",
    "print(corr) "
   ]
  },
  {
   "cell_type": "code",
   "execution_count": 40,
   "metadata": {},
   "outputs": [
    {
     "name": "stdout",
     "output_type": "stream",
     "text": [
      "0.9058632541913365\n"
     ]
    }
   ],
   "source": [
    "from scipy.stats import pearsonr\n",
    "corr, _ = pearsonr(data.D1july09reg, data.D2jan10tax)\n",
    "print(corr)"
   ]
  },
  {
   "cell_type": "code",
   "execution_count": 41,
   "metadata": {},
   "outputs": [
    {
     "name": "stdout",
     "output_type": "stream",
     "text": [
      "0.6340037731068527\n"
     ]
    }
   ],
   "source": [
    "from scipy.stats import pearsonr\n",
    "corr, _ = pearsonr(data.D1july09reg, data.D3oct11tax)\n",
    "print(corr)"
   ]
  },
  {
   "cell_type": "code",
   "execution_count": 42,
   "metadata": {},
   "outputs": [
    {
     "name": "stdout",
     "output_type": "stream",
     "text": [
      "0.5313689313240573\n"
     ]
    }
   ],
   "source": [
    "from scipy.stats import pearsonr\n",
    "corr, _ = pearsonr(data.D1july09reg, data.D4jul12reg_advertisement_ban)\n",
    "print(corr)"
   ]
  },
  {
   "cell_type": "code",
   "execution_count": 43,
   "metadata": {},
   "outputs": [
    {
     "name": "stdout",
     "output_type": "stream",
     "text": [
      "0.46376020680063185\n"
     ]
    }
   ],
   "source": [
    "from scipy.stats import pearsonr\n",
    "corr, _ = pearsonr(data.D1july09reg, data.D5jan13mixstrtgy)\n",
    "print(corr) "
   ]
  },
  {
   "cell_type": "code",
   "execution_count": 44,
   "metadata": {},
   "outputs": [
    {
     "name": "stdout",
     "output_type": "stream",
     "text": [
      "0.6998890507738141\n"
     ]
    }
   ],
   "source": [
    "from scipy.stats import pearsonr\n",
    "corr, _ = pearsonr(data.D2jan10tax, data.D3oct11tax)\n",
    "print(corr)"
   ]
  },
  {
   "cell_type": "code",
   "execution_count": 45,
   "metadata": {},
   "outputs": [
    {
     "name": "stdout",
     "output_type": "stream",
     "text": [
      "0.5865884600854132\n"
     ]
    }
   ],
   "source": [
    "from scipy.stats import pearsonr\n",
    "corr, _ = pearsonr(data.D2jan10tax, data.D4jul12reg_advertisement_ban)\n",
    "print(corr)"
   ]
  },
  {
   "cell_type": "code",
   "execution_count": 46,
   "metadata": {},
   "outputs": [
    {
     "name": "stdout",
     "output_type": "stream",
     "text": [
      "0.5119538789710929\n"
     ]
    }
   ],
   "source": [
    "from scipy.stats import pearsonr\n",
    "corr, _ = pearsonr(data.D2jan10tax, data.D5jan13mixstrtgy)\n",
    "print(corr)"
   ]
  },
  {
   "cell_type": "code",
   "execution_count": 47,
   "metadata": {},
   "outputs": [
    {
     "name": "stdout",
     "output_type": "stream",
     "text": [
      "0.838116354923494\n"
     ]
    }
   ],
   "source": [
    "from scipy.stats import pearsonr\n",
    "corr, _ = pearsonr(data.D3oct11tax, data.D4jul12reg_advertisement_ban)\n",
    "print(corr)"
   ]
  },
  {
   "cell_type": "code",
   "execution_count": 48,
   "metadata": {},
   "outputs": [
    {
     "name": "stdout",
     "output_type": "stream",
     "text": [
      "0.7314786227975199\n"
     ]
    }
   ],
   "source": [
    "from scipy.stats import pearsonr\n",
    "corr, _ = pearsonr(data.D3oct11tax, data.D5jan13mixstrtgy)\n",
    "print(corr)"
   ]
  },
  {
   "cell_type": "code",
   "execution_count": 49,
   "metadata": {},
   "outputs": [
    {
     "name": "stdout",
     "output_type": "stream",
     "text": [
      "0.8727650027355589\n"
     ]
    }
   ],
   "source": [
    "from scipy.stats import pearsonr\n",
    "corr, _ = pearsonr(data.D4jul12reg_advertisement_ban, data.D5jan13mixstrtgy)\n",
    "print(corr)"
   ]
  },
  {
   "cell_type": "code",
   "execution_count": 50,
   "metadata": {
    "scrolled": false
   },
   "outputs": [
    {
     "data": {
      "image/png": "[encoded data removed]",
      "text/plain": [
       "<Figure size 432x288 with 2 Axes>"
      ]
     },
     "metadata": {
      "needs_background": "light"
     },
     "output_type": "display_data"
    }
   ],
   "source": [
    "def correlation_matrix(df):\n",
    "    from matplotlib import pyplot as plt\n",
    "    from matplotlib import cm as cm\n",
    "\n",
    "    fig = plt.figure()\n",
    "    ax1 = fig.add_subplot(111)\n",
    "    cmap = cm.get_cmap('jet', 100)\n",
    "    cax = ax1.imshow(df.corr(), interpolation=\"nearest\", cmap=cmap)\n",
    "    ax1.grid(True)\n",
    "    plt.title('Correlation Coefficients')\n",
    "    labels=['D1july09reg', 'D2jan10tax', 'D3oct11tax', 'D4jul12reg_advertisement_ban', 'D5jan13mixstrtgy', 'lncons','lnprice','lntax','lntipi']\n",
    "    ax1.set_xticklabels(labels,fontsize=8)\n",
    "    ax1.set_yticklabels(labels,fontsize=8)\n",
    "    # Add colorbar, make sure to specify tick locations to match desired ticklabels\n",
    "    fig.colorbar(cax, ticks=[-1,-.90,-.80,-.70,-.60,-.50,-.40,-.30,-.20,-.10,0,.10,.20,.30,.40,.50,.60,.70,.80,.90,1])\n",
    "    plt.show()\n",
    "\n",
    "correlation_matrix(data)"
   ]
  },
  {
   "cell_type": "code",
   "execution_count": 51,
   "metadata": {},
   "outputs": [],
   "source": [
    "# Interpretation of correlation results"
   ]
  },
  {
   "cell_type": "markdown",
   "metadata": {},
   "source": [
    "As expected, there is a negative correlation between lncons and lnprice in addition to lncons and lntax. Also, surprisingly, there is a nergative correlation between lncons and lntipi. However, whereas correlation between lncons and lntax and lntipi is weak, there is a strong correlation between lncons and lnprice (-0.50). More importantly, the highest correlation coeeficient occurs between lntax and lnprice as independent variables, which is important for regression analysis because this results suggests that there is collinearity problem between those two independent variables. For that reason, we have to exclude lntax as independent variable from the regression models when we use lnprice independent variable. "
   ]
  },
  {
   "cell_type": "code",
   "execution_count": 52,
   "metadata": {},
   "outputs": [],
   "source": [
    "# Q3: What are the most appropriate tests to use to analyze these relationships?\n",
    "In order to analyze the relationships among the variables above, most appropriate test is linear regression analysis. For that reason, I specify different models and under those models, I run regression tests below. "
   ]
  },
  {
   "cell_type": "code",
   "execution_count": 53,
   "metadata": {
    "scrolled": true
   },
   "outputs": [
    {
     "data": {
      "text/plain": [
       "Ttest_indResult(statistic=1069.2603064471257, pvalue=0.0)"
      ]
     },
     "execution_count": 53,
     "metadata": {},
     "output_type": "execute_result"
    }
   ],
   "source": [
    "#leverage the Python stats package for ease\n",
    "stats.ttest_ind(data['lncons'], data['lnprice'])"
   ]
  },
  {
   "cell_type": "code",
   "execution_count": 54,
   "metadata": {
    "scrolled": true
   },
   "outputs": [
    {
     "name": "stdout",
     "output_type": "stream",
     "text": [
      "                            OLS Regression Results                            \n",
      "==============================================================================\n",
      "Dep. Variable:                 lncons   R-squared:                       0.256\n",
      "Model:                            OLS   Adj. R-squared:                  0.250\n",
      "Method:                 Least Squares   F-statistic:                     41.26\n",
      "Date:                Mon, 13 Apr 2020   Prob (F-statistic):           2.80e-09\n",
      "Time:                        10:16:52   Log-Likelihood:                 77.966\n",
      "No. Observations:                 122   AIC:                            -151.9\n",
      "Df Residuals:                     120   BIC:                            -146.3\n",
      "Df Model:                           1                                         \n",
      "Covariance Type:            nonrobust                                         \n",
      "==============================================================================\n",
      "                 coef    std err          t      P>|t|      [0.025      0.975]\n",
      "------------------------------------------------------------------------------\n",
      "Intercept     23.2490      0.065    355.678      0.000      23.120      23.378\n",
      "lnprice       -0.4410      0.069     -6.423      0.000      -0.577      -0.305\n",
      "==============================================================================\n",
      "Omnibus:                        4.622   Durbin-Watson:                   1.189\n",
      "Prob(Omnibus):                  0.099   Jarque-Bera (JB):                4.681\n",
      "Skew:                          -0.469   Prob(JB):                       0.0963\n",
      "Kurtosis:                       2.793   Cond. No.                         11.1\n",
      "==============================================================================\n",
      "\n",
      "Warnings:\n",
      "[1] Standard Errors assume that the covariance matrix of the errors is correctly specified.\n"
     ]
    }
   ],
   "source": [
    "m_new = ols('lncons ~ lnprice',data).fit()\n",
    "print(m_new.summary())"
   ]
  },
  {
   "cell_type": "code",
   "execution_count": 55,
   "metadata": {},
   "outputs": [],
   "source": [
    "# The first OLS model above suggests that demand elasticity is -.44 and this result is statistically significant (p(t)=0.000). However, R^2 is low (.25).  "
   ]
  },
  {
   "cell_type": "code",
   "execution_count": 56,
   "metadata": {
    "scrolled": true
   },
   "outputs": [
    {
     "name": "stdout",
     "output_type": "stream",
     "text": [
      "                            OLS Regression Results                            \n",
      "==============================================================================\n",
      "Dep. Variable:                 lncons   R-squared:                       0.131\n",
      "Model:                            OLS   Adj. R-squared:                  0.124\n",
      "Method:                 Least Squares   F-statistic:                     18.13\n",
      "Date:                Mon, 13 Apr 2020   Prob (F-statistic):           4.12e-05\n",
      "Time:                        10:16:52   Log-Likelihood:                 68.522\n",
      "No. Observations:                 122   AIC:                            -133.0\n",
      "Df Residuals:                     120   BIC:                            -127.4\n",
      "Df Model:                           1                                         \n",
      "Covariance Type:            nonrobust                                         \n",
      "==============================================================================\n",
      "                 coef    std err          t      P>|t|      [0.025      0.975]\n",
      "------------------------------------------------------------------------------\n",
      "Intercept     22.6405      0.048    475.960      0.000      22.546      22.735\n",
      "lntax         -0.0810      0.019     -4.258      0.000      -0.119      -0.043\n",
      "==============================================================================\n",
      "Omnibus:                        4.363   Durbin-Watson:                   1.082\n",
      "Prob(Omnibus):                  0.113   Jarque-Bera (JB):                4.374\n",
      "Skew:                          -0.457   Prob(JB):                        0.112\n",
      "Kurtosis:                       2.837   Cond. No.                         10.9\n",
      "==============================================================================\n",
      "\n",
      "Warnings:\n",
      "[1] Standard Errors assume that the covariance matrix of the errors is correctly specified.\n"
     ]
    }
   ],
   "source": [
    "m_new = ols('lncons ~ lntax',data).fit()\n",
    "print(m_new.summary())"
   ]
  },
  {
   "cell_type": "code",
   "execution_count": 57,
   "metadata": {},
   "outputs": [],
   "source": [
    "# The second OLS model between lncons and lntax suggests that tax elasticity is -.08, which is very low, and this result is statistically significant (p(t)=0.000). However, R^2 is still low (.13).  "
   ]
  },
  {
   "cell_type": "code",
   "execution_count": 58,
   "metadata": {
    "scrolled": true
   },
   "outputs": [
    {
     "name": "stdout",
     "output_type": "stream",
     "text": [
      "                            OLS Regression Results                            \n",
      "==============================================================================\n",
      "Dep. Variable:                 lncons   R-squared:                       0.273\n",
      "Model:                            OLS   Adj. R-squared:                  0.261\n",
      "Method:                 Least Squares   F-statistic:                     22.37\n",
      "Date:                Mon, 13 Apr 2020   Prob (F-statistic):           5.64e-09\n",
      "Time:                        10:16:52   Log-Likelihood:                 79.412\n",
      "No. Observations:                 122   AIC:                            -152.8\n",
      "Df Residuals:                     119   BIC:                            -144.4\n",
      "Df Model:                           2                                         \n",
      "Covariance Type:            nonrobust                                         \n",
      "==============================================================================\n",
      "                 coef    std err          t      P>|t|      [0.025      0.975]\n",
      "------------------------------------------------------------------------------\n",
      "Intercept     23.5611      0.196    120.320      0.000      23.173      23.949\n",
      "lnprice       -0.6288      0.130     -4.823      0.000      -0.887      -0.371\n",
      "lntax          0.0565      0.033      1.689      0.094      -0.010       0.123\n",
      "==============================================================================\n",
      "Omnibus:                        5.580   Durbin-Watson:                   1.198\n",
      "Prob(Omnibus):                  0.061   Jarque-Bera (JB):                5.682\n",
      "Skew:                          -0.522   Prob(JB):                       0.0584\n",
      "Kurtosis:                       2.839   Cond. No.                         57.6\n",
      "==============================================================================\n",
      "\n",
      "Warnings:\n",
      "[1] Standard Errors assume that the covariance matrix of the errors is correctly specified.\n"
     ]
    }
   ],
   "source": [
    "m_new = ols('lncons ~ lnprice+lntax',data).fit()\n",
    "print(m_new.summary())"
   ]
  },
  {
   "cell_type": "code",
   "execution_count": 59,
   "metadata": {},
   "outputs": [],
   "source": [
    "# In the third OLS model as above, I regress lncons with lnprice and lntax, which are highly correlated, and the sign of tax elasticity is positive now. This result suggests that this model is not valid because of the collinearity between tax and price in the same model. For that reason, we have to use price and tax variables differently in the regression models. Otherwise, the models will not be valid. "
   ]
  },
  {
   "cell_type": "code",
   "execution_count": 60,
   "metadata": {},
   "outputs": [
    {
     "name": "stdout",
     "output_type": "stream",
     "text": [
      "                            OLS Regression Results                            \n",
      "==============================================================================\n",
      "Dep. Variable:                 lncons   R-squared:                       0.330\n",
      "Model:                            OLS   Adj. R-squared:                  0.319\n",
      "Method:                 Least Squares   F-statistic:                     29.29\n",
      "Date:                Mon, 13 Apr 2020   Prob (F-statistic):           4.53e-11\n",
      "Time:                        10:16:52   Log-Likelihood:                 84.359\n",
      "No. Observations:                 122   AIC:                            -162.7\n",
      "Df Residuals:                     119   BIC:                            -154.3\n",
      "Df Model:                           2                                         \n",
      "Covariance Type:            nonrobust                                         \n",
      "==============================================================================\n",
      "                 coef    std err          t      P>|t|      [0.025      0.975]\n",
      "------------------------------------------------------------------------------\n",
      "Intercept     21.5184      0.481     44.709      0.000      20.565      22.471\n",
      "lnprice       -0.6363      0.085     -7.508      0.000      -0.804      -0.468\n",
      "lntipi         0.4142      0.114      3.626      0.000       0.188       0.640\n",
      "==============================================================================\n",
      "Omnibus:                        4.817   Durbin-Watson:                   1.224\n",
      "Prob(Omnibus):                  0.090   Jarque-Bera (JB):                4.556\n",
      "Skew:                          -0.472   Prob(JB):                        0.103\n",
      "Kurtosis:                       3.058   Cond. No.                         215.\n",
      "==============================================================================\n",
      "\n",
      "Warnings:\n",
      "[1] Standard Errors assume that the covariance matrix of the errors is correctly specified.\n"
     ]
    }
   ],
   "source": [
    "m_new = ols('lncons ~ lnprice+lntipi',data).fit()\n",
    "print(m_new.summary())"
   ]
  },
  {
   "cell_type": "code",
   "execution_count": 61,
   "metadata": {},
   "outputs": [
    {
     "name": "stdout",
     "output_type": "stream",
     "text": [
      "                            OLS Regression Results                            \n",
      "==============================================================================\n",
      "Dep. Variable:                 lncons   R-squared:                       0.163\n",
      "Model:                            OLS   Adj. R-squared:                  0.149\n",
      "Method:                 Least Squares   F-statistic:                     11.63\n",
      "Date:                Mon, 13 Apr 2020   Prob (F-statistic):           2.44e-05\n",
      "Time:                        10:16:52   Log-Likelihood:                 70.827\n",
      "No. Observations:                 122   AIC:                            -135.7\n",
      "Df Residuals:                     119   BIC:                            -127.2\n",
      "Df Model:                           2                                         \n",
      "Covariance Type:            nonrobust                                         \n",
      "==============================================================================\n",
      "                 coef    std err          t      P>|t|      [0.025      0.975]\n",
      "------------------------------------------------------------------------------\n",
      "Intercept     21.2339      0.659     32.230      0.000      19.929      22.538\n",
      "lntax         -0.1176      0.025     -4.635      0.000      -0.168      -0.067\n",
      "lntipi         0.2854      0.133      2.141      0.034       0.021       0.549\n",
      "==============================================================================\n",
      "Omnibus:                        2.349   Durbin-Watson:                   1.066\n",
      "Prob(Omnibus):                  0.309   Jarque-Bera (JB):                2.327\n",
      "Skew:                          -0.328   Prob(JB):                        0.312\n",
      "Kurtosis:                       2.837   Cond. No.                         288.\n",
      "==============================================================================\n",
      "\n",
      "Warnings:\n",
      "[1] Standard Errors assume that the covariance matrix of the errors is correctly specified.\n"
     ]
    }
   ],
   "source": [
    "m_new = ols('lncons ~ lntax+lntipi',data).fit()\n",
    "print(m_new.summary())"
   ]
  },
  {
   "cell_type": "code",
   "execution_count": 62,
   "metadata": {},
   "outputs": [
    {
     "name": "stdout",
     "output_type": "stream",
     "text": [
      "                            OLS Regression Results                            \n",
      "==============================================================================\n",
      "Dep. Variable:                 lncons   R-squared:                       0.344\n",
      "Model:                            OLS   Adj. R-squared:                  0.309\n",
      "Method:                 Least Squares   F-statistic:                     10.03\n",
      "Date:                Mon, 13 Apr 2020   Prob (F-statistic):           6.77e-09\n",
      "Time:                        10:16:52   Log-Likelihood:                 85.614\n",
      "No. Observations:                 122   AIC:                            -157.2\n",
      "Df Residuals:                     115   BIC:                            -137.6\n",
      "Df Model:                           6                                         \n",
      "Covariance Type:            nonrobust                                         \n",
      "====================================================================================\n",
      "                       coef    std err          t      P>|t|      [0.025      0.975]\n",
      "------------------------------------------------------------------------------------\n",
      "Intercept           21.3028      0.559     38.091      0.000      20.195      22.411\n",
      "lnprice             -0.5059      0.231     -2.187      0.031      -0.964      -0.048\n",
      "lntipi               0.4396      0.122      3.599      0.000       0.198       0.681\n",
      "D1july09reg          0.0104      0.061      0.171      0.865      -0.111       0.132\n",
      "D2jan10tax          -0.0440      0.067     -0.656      0.513      -0.177       0.089\n",
      "D3oct11tax           0.0148      0.045      0.333      0.740      -0.073       0.103\n",
      "D5jan13mixstrtgy    -0.0564      0.041     -1.373      0.172      -0.138       0.025\n",
      "==============================================================================\n",
      "Omnibus:                        3.448   Durbin-Watson:                   1.256\n",
      "Prob(Omnibus):                  0.178   Jarque-Bera (JB):                3.277\n",
      "Skew:                          -0.401   Prob(JB):                        0.194\n",
      "Kurtosis:                       2.959   Cond. No.                         251.\n",
      "==============================================================================\n",
      "\n",
      "Warnings:\n",
      "[1] Standard Errors assume that the covariance matrix of the errors is correctly specified.\n"
     ]
    }
   ],
   "source": [
    "m_new = ols('lncons ~ lnprice+lntipi+D1july09reg+D2jan10tax+D3oct11tax+D5jan13mixstrtgy',data).fit()\n",
    "print(m_new.summary())"
   ]
  },
  {
   "cell_type": "code",
   "execution_count": 63,
   "metadata": {},
   "outputs": [
    {
     "name": "stdout",
     "output_type": "stream",
     "text": [
      "                            OLS Regression Results                            \n",
      "==============================================================================\n",
      "Dep. Variable:                 lncons   R-squared:                       0.331\n",
      "Model:                            OLS   Adj. R-squared:                  0.296\n",
      "Method:                 Least Squares   F-statistic:                     9.466\n",
      "Date:                Mon, 13 Apr 2020   Prob (F-statistic):           1.93e-08\n",
      "Time:                        10:16:52   Log-Likelihood:                 84.424\n",
      "No. Observations:                 122   AIC:                            -154.8\n",
      "Df Residuals:                     115   BIC:                            -135.2\n",
      "Df Model:                           6                                         \n",
      "Covariance Type:            nonrobust                                         \n",
      "====================================================================================\n",
      "                       coef    std err          t      P>|t|      [0.025      0.975]\n",
      "------------------------------------------------------------------------------------\n",
      "Intercept           20.6142      0.628     32.806      0.000      19.370      21.859\n",
      "lntax               -0.0435      0.028     -1.571      0.119      -0.098       0.011\n",
      "lntipi               0.4781      0.131      3.651      0.000       0.219       0.738\n",
      "D1july09reg         -0.0296      0.056     -0.525      0.600      -0.141       0.082\n",
      "D2jan10tax          -0.1208      0.058     -2.091      0.039      -0.235      -0.006\n",
      "D3oct11tax           0.0013      0.044      0.029      0.977      -0.086       0.089\n",
      "D5jan13mixstrtgy    -0.0680      0.041     -1.666      0.099      -0.149       0.013\n",
      "==============================================================================\n",
      "Omnibus:                        3.501   Durbin-Watson:                   1.285\n",
      "Prob(Omnibus):                  0.174   Jarque-Bera (JB):                3.301\n",
      "Skew:                          -0.403   Prob(JB):                        0.192\n",
      "Kurtosis:                       2.980   Cond. No.                         306.\n",
      "==============================================================================\n",
      "\n",
      "Warnings:\n",
      "[1] Standard Errors assume that the covariance matrix of the errors is correctly specified.\n"
     ]
    }
   ],
   "source": [
    "m_new = ols('lncons ~ lntax+lntipi+D1july09reg+D2jan10tax+D3oct11tax+D5jan13mixstrtgy',data).fit()\n",
    "print(m_new.summary())"
   ]
  },
  {
   "cell_type": "code",
   "execution_count": 64,
   "metadata": {
    "scrolled": true
   },
   "outputs": [
    {
     "name": "stdout",
     "output_type": "stream",
     "text": [
      "                            OLS Regression Results                            \n",
      "==============================================================================\n",
      "Dep. Variable:                 lncons   R-squared:                       0.341\n",
      "Model:                            OLS   Adj. R-squared:                  0.318\n",
      "Method:                 Least Squares   F-statistic:                     15.12\n",
      "Date:                Mon, 13 Apr 2020   Prob (F-statistic):           5.45e-10\n",
      "Time:                        10:16:53   Log-Likelihood:                 85.353\n",
      "No. Observations:                 122   AIC:                            -160.7\n",
      "Df Residuals:                     117   BIC:                            -146.7\n",
      "Df Model:                           4                                         \n",
      "Covariance Type:            nonrobust                                         \n",
      "====================================================================================\n",
      "                       coef    std err          t      P>|t|      [0.025      0.975]\n",
      "------------------------------------------------------------------------------------\n",
      "Intercept           21.2912      0.523     40.685      0.000      20.255      22.328\n",
      "lnprice             -0.5687      0.184     -3.088      0.003      -0.934      -0.204\n",
      "lntipi               0.4527      0.118      3.849      0.000       0.220       0.686\n",
      "D1july09reg         -0.0060      0.056     -0.107      0.915      -0.117       0.105\n",
      "D5jan13mixstrtgy    -0.0488      0.036     -1.370      0.173      -0.119       0.022\n",
      "==============================================================================\n",
      "Omnibus:                        3.446   Durbin-Watson:                   1.242\n",
      "Prob(Omnibus):                  0.179   Jarque-Bera (JB):                3.241\n",
      "Skew:                          -0.399   Prob(JB):                        0.198\n",
      "Kurtosis:                       2.983   Cond. No.                         234.\n",
      "==============================================================================\n",
      "\n",
      "Warnings:\n",
      "[1] Standard Errors assume that the covariance matrix of the errors is correctly specified.\n"
     ]
    }
   ],
   "source": [
    "m_new = ols('lncons ~ lnprice+lntipi+D1july09reg+D5jan13mixstrtgy',data).fit()\n",
    "print(m_new.summary())"
   ]
  },
  {
   "cell_type": "code",
   "execution_count": 65,
   "metadata": {},
   "outputs": [
    {
     "name": "stdout",
     "output_type": "stream",
     "text": [
      "                            OLS Regression Results                            \n",
      "==============================================================================\n",
      "Dep. Variable:                 lncons   R-squared:                       0.332\n",
      "Model:                            OLS   Adj. R-squared:                  0.309\n",
      "Method:                 Least Squares   F-statistic:                     14.55\n",
      "Date:                Mon, 13 Apr 2020   Prob (F-statistic):           1.13e-09\n",
      "Time:                        10:16:53   Log-Likelihood:                 84.570\n",
      "No. Observations:                 122   AIC:                            -159.1\n",
      "Df Residuals:                     117   BIC:                            -145.1\n",
      "Df Model:                           4                                         \n",
      "Covariance Type:            nonrobust                                         \n",
      "==============================================================================\n",
      "                 coef    std err          t      P>|t|      [0.025      0.975]\n",
      "------------------------------------------------------------------------------\n",
      "Intercept     21.3733      0.541     39.481      0.000      20.301      22.445\n",
      "lnprice       -0.5332      0.201     -2.649      0.009      -0.932      -0.135\n",
      "lntipi         0.4289      0.121      3.534      0.001       0.189       0.669\n",
      "D2jan10tax    -0.0266      0.062     -0.432      0.666      -0.149       0.095\n",
      "D3oct11tax    -0.0176      0.038     -0.464      0.644      -0.093       0.058\n",
      "==============================================================================\n",
      "Omnibus:                        4.726   Durbin-Watson:                   1.235\n",
      "Prob(Omnibus):                  0.094   Jarque-Bera (JB):                4.475\n",
      "Skew:                          -0.469   Prob(JB):                        0.107\n",
      "Kurtosis:                       3.047   Cond. No.                         241.\n",
      "==============================================================================\n",
      "\n",
      "Warnings:\n",
      "[1] Standard Errors assume that the covariance matrix of the errors is correctly specified.\n"
     ]
    }
   ],
   "source": [
    "m_new = ols('lncons ~ lnprice+lntipi+D2jan10tax+D3oct11tax',data).fit()\n",
    "print(m_new.summary())"
   ]
  },
  {
   "attachments": {},
   "cell_type": "markdown",
   "metadata": {},
   "source": [
    "#Interpretation of regression analysis\n",
    "\n",
    "Under the first scenario, I estimate the relationships between price, income and consumption with and without dummies. Then, I drop price variable from the first-scenario models and estimate relationships between tax, income, consumption and regulation dummies under Scenario 2. Lastly, I observe the relationships between income, dummies, and consumption under Scenario 3. Using those different scenarios and models, I aim to reveal the effect of tax and regulation policies on consumption in the most robust way.\n",
    "I find that the long-term average price and income elasticities of demand for cigarettes in Turkey are is -0.561 and 0.38, respectively. The long run tax elasticity of demand is centered on -0.11. Regarding dummies, I find that excise taxes and regulations have economically and statistically significant impact in reducing cigarette consumption. The findings confirm that government has reduced cigarette consumption through taxation and regulation."
   ]
  }
 ],
 "metadata": {
  "kernelspec": {
   "display_name": "Python 3",
   "language": "python",
   "name": "python3"
  },
  "language_info": {
   "codemirror_mode": {
    "name": "ipython",
    "version": 3
   },
   "file_extension": ".py",
   "mimetype": "text/x-python",
   "name": "python",
   "nbconvert_exporter": "python",
   "pygments_lexer": "ipython3",
   "version": "3.7.4"
  }
 },
 "nbformat": 4,
 "nbformat_minor": 2
}
